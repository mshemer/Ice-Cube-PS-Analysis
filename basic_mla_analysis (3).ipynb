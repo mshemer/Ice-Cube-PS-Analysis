{
 "cells": [
  {
   "cell_type": "code",
   "execution_count": 1,
   "metadata": {},
   "outputs": [],
   "source": [
    "import copy\n",
    "import numpy as np\n",
    "import matplotlib.pyplot as plt"
   ]
  },
  {
   "cell_type": "markdown",
   "metadata": {},
   "source": [
    "While in development, MLA is not available via pip, so to import it, you need to add the location of the repository on your local machine to the python path."
   ]
  },
  {
   "cell_type": "code",
   "execution_count": 2,
   "metadata": {},
   "outputs": [
    {
     "name": "stdout",
     "output_type": "stream",
     "text": [
      "Processing ./mla\n",
      "Requirement already satisfied: numpy in /opt/conda/lib/python3.8/site-packages (from mla-thejevans==0.0.1) (1.18.5)\n",
      "Requirement already satisfied: scipy in /opt/conda/lib/python3.8/site-packages (from mla-thejevans==0.0.1) (1.5.3)\n",
      "Building wheels for collected packages: mla-thejevans\n",
      "  Building wheel for mla-thejevans (setup.py) ... \u001b[?25ldone\n",
      "\u001b[?25h  Created wheel for mla-thejevans: filename=mla_thejevans-0.0.1-py3-none-any.whl size=28911 sha256=ecd75d880d49df45d5a25a0d7aead508b248f206022bc9339292d9d17347609a\n",
      "  Stored in directory: /tmp/pip-ephem-wheel-cache-b4wpkafd/wheels/8c/48/b3/9140259f9b0da6559e99825e8695b86a19be0cff6f5377a4a1\n",
      "Successfully built mla-thejevans\n",
      "Installing collected packages: mla-thejevans\n",
      "Successfully installed mla-thejevans-0.0.1\n"
     ]
    }
   ],
   "source": [
    "import os\n",
    "import sys\n",
    "# Install a pip package in the current Jupyter kernel\n",
    "import sys\n",
    "!{sys.executable} -m pip install ~/mla\n",
    "import mla"
   ]
  },
  {
   "cell_type": "markdown",
   "metadata": {},
   "source": [
    "The `EventModel` class in this implementation uses data, simulation, and grl numpy arrays in the same format that Michael used in the workshops he ran. We need to load in some arrays to do an analysis."
   ]
  },
  {
   "cell_type": "code",
   "execution_count": 3,
   "metadata": {},
   "outputs": [
    {
     "name": "stdout",
     "output_type": "stream",
     "text": [
      "Keys available in data:\n",
      "['angErr', 'azi', 'dec', 'event', 'logE', 'ra', 'run', 'subevent', 'time', 'zen']\n",
      "\n",
      "Reduced the number of simulation events from  11595414 to 100000\n",
      "Keys available in simulation:\n",
      "['angErr', 'azi', 'dec', 'event', 'logE', 'ow', 'ra', 'run', 'subevent', 'time', 'trueDec', 'trueE', 'trueRa', 'zen']\n",
      "\n"
     ]
    }
   ],
   "source": [
    "import glob\n",
    "def read(filelist):\n",
    "    data = []\n",
    "    for f in sorted(filelist):\n",
    "        x = np.load(f)\n",
    "        if len(data) == 0: data = x.copy()\n",
    "        else: data = np.concatenate([data, x])\n",
    "    return data\n",
    "\n",
    "def read_mc(file, n_keep = 50000):\n",
    "    sim = np.load(file)\n",
    "    # Reduce the number of events in the simulation\n",
    "    # to a manageable level.\n",
    "    N = len(sim)\n",
    "    sim = np.random.choice(sim, n_keep)    # cut down to n_keep events\n",
    "    sim['ow'] /= float(n_keep)/float(N)    # correct the weights\n",
    "    print(\"Reduced the number of simulation events from \",\n",
    "         \"{} to {}\".format(N, len(sim)))\n",
    "    # Show the possible keys available here:\n",
    "    print(\"Keys available in simulation:\")\n",
    "    print(sorted(sim.dtype.names))\n",
    "    print()\n",
    "    return sim\n",
    "\n",
    "DATA_PATH = \"/home/jovyan/data/old_npy_data\"\n",
    "\n",
    "# Read in all of the data files\n",
    "data_files = DATA_PATH + \"/IC86_*exp.npy\"\n",
    "data = read(glob.glob(data_files))\n",
    "print(\"Keys available in data:\")\n",
    "print(sorted(data.dtype.names))\n",
    "print()\n",
    "\n",
    "# Read in the MC files \n",
    "sim_files = DATA_PATH + \"/IC86_2012_MC.npy\"\n",
    "sim = read_mc(sim_files, n_keep=100000)\n",
    "\n",
    "# Read in the GRL file\n",
    "grl = np.load(DATA_PATH + \"/IC86_2012_GRL.npy\")"
   ]
  },
  {
   "cell_type": "markdown",
   "metadata": {},
   "source": [
    "To start an analysis, you need a `Source`, an `EventModel`, and a `TestStatistic`. Let's start with the `Source`. Currently, our software supports point-source objects only. "
   ]
  },
  {
   "cell_type": "code",
   "execution_count": 4,
   "metadata": {},
   "outputs": [],
   "source": [
    "source = mla.sources.Source(\n",
    "    name=\"TXS\",\n",
    "    ra=np.deg2rad(77.3583),\n",
    "    dec=np.deg2rad(5.6931)\n",
    ")"
   ]
  },
  {
   "cell_type": "markdown",
   "metadata": {},
   "source": [
    "Next, we need an `EventModel`. This is an object that holds everything that will be implemented by Michael's public data package. Once that is ready, We will make an `EventModel` object that interfaces with it, leaving the rest of our package the same.\n",
    "\n",
    "The only `EventModel` that is currently ready-to-go is the `I3EventModel` class. Building this object is probably the most complicated part of starting an analysis. Here is a list of parameters that it takes:\n",
    "\n",
    "Required:\n",
    "- `source`: A `Source` object\n",
    "- `data`: A numpy array of real events to be used for background event generation\n",
    "- `sim`: A numpy array of monte-carlo events to be used for signal event generation\n",
    "- `grl`: A numpy array of good runs to be used to select times of generated events\n",
    "- `gamma`: A number representing the assumed spectral index for calculating simulation event weights\n",
    "- `background_time_profile`: An object that is a subclass of `GenericProfile` representing the temporal PDF of the background events\n",
    "- `signal_time_profile`: A similar object for the signal events\n",
    "\n",
    "Optional:\n",
    "- `sampling_width`: The width in radians of a declination band used to filter out events far from the source to reduce computation time (default: 3 deg)\n",
    "- `background_sin_dec_bins`: Either a number of equally spaced bins to use, or an array of bin edges for creating a background spatial pdf in sin(declination) (default: 500)\n",
    "- `background_window`: A length of time (in MJD) to use to sample background events from prior to the time window of interest. Useful for analyses with short time windows that likely have more signal than usual. (default: 14)\n",
    "- `withinwindow`: A flag for choosing whether to use the events in the time window of interest as background, or to use the value in `background_window` to select a differnt background window. (default: False)\n",
    "- `signal_sin_dec_bins`: Either a number of equally spaced bins to use, or an array of bin edges for creating a grid of energy splines (default: 50)\n",
    "- `log_energy_bins`: Either a number of equally spaced bins to use, or an array of bin edges for creating a grid of energy splines (default: 50)\n",
    "- `gamma_bins`: Either a number of equally spaced bins to use, or an array of bin edges for creating a spline interpolation at each bin in the grid (default: 50)\n",
    "- `verbose`: A flag for printing status information while building the event model. (default: False)\n",
    "\n",
    "Before we can build an `I3EventModel`, we need time profiles for signal and background. We have these built-in options for time profiles:\n",
    "- `UniformProfile`: Takes a `start` in MJD and a `length` in MJD and represents a uniform distribution between those times.\n",
    "- `GaussProfile`: Takes a `mean` in MJD and a `sigma` in MJD and represents a normal distribution with those parameters.\n",
    "- `CustomProfile`: Takes a 1D-histogram in time as the shape of the pdf and an `offset` as a time shift of the histogram and represents a step-function distribution with the given parameters."
   ]
  },
  {
   "cell_type": "code",
   "execution_count": 6,
   "metadata": {},
   "outputs": [],
   "source": [
    "start = 56224 \n",
    "#start on this Modified Julian Date, the start of this flaring period for TXS\n",
    "length = 158 \n",
    "#this is how many days the flare lasted, reverifying this search\n",
    "background_time_profile = mla.time_profiles.UniformProfile(start, length)\n",
    "signal_time_profile = mla.time_profiles.UniformProfile(start, length)\n",
    "\n",
    "model = mla.models.I3EventModel(\n",
    "    source=source,\n",
    "    data=data,\n",
    "    sim=sim,\n",
    "    grl=grl,\n",
    "    gamma=-2,\n",
    "    background_time_profile=background_time_profile,\n",
    "    signal_time_profile=signal_time_profile,\n",
    "    sampling_width=np.radians(3), \n",
    "    #only taking events within this 3 degree analysis into account (could change this up to 5)\n",
    "    withinwindow=True,\n",
    ")"
   ]
  },
  {
   "cell_type": "markdown",
   "metadata": {},
   "source": [
    "Finally, we need a `TestStatistic`. Currently, only a standard signal-over-background LLH test statistic is defined, `LLHTestStatistic`. This class is very flexible, though. During initialization, you give a list of likelihood terms as parameters. You can give as many or as few as you like, and in whatever order you like. Currently there are four available terms:\n",
    "\n",
    "- `SpatialTerm`: Takes no parameters. Uses the spatial pdfs defined in the `EventModel` to calculate a spatial signal-over-background ratio (sob)\n",
    "- `TimeTerm`: Takes as parameters both a signal and background time profile so that you can attempt to fit using different profiles than you gave to the `EventModel` for injecting events. Currently, this term allows for the signal time profile parameters to be fitting parameters, but not the background parameters.\n",
    "- `I3EnergyTerm`: Only works with `I3EventModel` models. Takes a default spectral index (`gamma`) as a parameter. This value can be a fitting parameter.\n",
    "- `threeml.test_statistics.ThreeMLEnergyTerm`: Only works with `threeml.models.ThreeMLEventModel` models. Takes no parameters."
   ]
  },
  {
   "cell_type": "code",
   "execution_count": 7,
   "metadata": {},
   "outputs": [],
   "source": [
    "bg_fit_time_pro = copy.deepcopy(background_time_profile)\n",
    "sig_fit_time_pro = copy.deepcopy(signal_time_profile)\n",
    "        \n",
    "ts = mla.test_statistics.LLHTestStatistic([\n",
    "    mla.test_statistics.SpatialTerm(),\n",
    "    mla.test_statistics.TimeTerm(\n",
    "        bg_fit_time_pro,\n",
    "        sig_fit_time_pro,\n",
    "    ),\n",
    "    mla.test_statistics.I3EnergyTerm(gamma=-2),\n",
    "])\n",
    "#generating our Test Statistic"
   ]
  },
  {
   "cell_type": "markdown",
   "metadata": {},
   "source": [
    "The `LLHTestStatistic` class also has $n_s$ as an optional fitting parameter. If you do not choose to fit it, the class will use a newton methods approach to find the best $n_s$ in every fitting step, which is generally faster.\n",
    "\n",
    "From here, we can put together what we have built into an `Analysis` object. The analysis should be static object to be shared between threads in multithreaded applications or sent as a pickle file to cluster jobs. Initialization is straightforward:"
   ]
  },
  {
   "cell_type": "code",
   "execution_count": 8,
   "metadata": {},
   "outputs": [],
   "source": [
    "analysis = mla.analysis.Analysis(\n",
    "    model=model,\n",
    "    test_statistic=ts,\n",
    "    source=source,\n",
    ")\n",
    "#build the analysis! sets things up"
   ]
  },
  {
   "cell_type": "markdown",
   "metadata": {},
   "source": [
    "Now that you have an `Analysis`, you can start on your analysis!\n",
    "\n",
    "There are four basic functions available in the `analysis` module for this:\n",
    "- `produce_trial`: Takes an `Analysis` and optional parameters for injecting signal, either a `flux_norm` (time-integrated flux normalization) or `n_signal_observed` to set the number of signal events injected. Returns a numpy array of combined signal and background events.\n",
    "- `evaluate_ts`: Takes an `Analysis`, `events`, and `params` (manually-set fitting parameters). Returns a float test statistic value for the given events and parameters.\n",
    "- `minimize_ts`: Takes an `Analysis`, `events`, and optionally `test_params` and `bounds`. Uses an optional `minimizer` (`scipy.optimize.minimize` by default) to minimize the `test_params` within the `bounds`. Returns a dictionary of the bests test statistic value and the best-fit parameters (always returns best-fit $n_s$, even if it is not a fitting parameter).\n",
    "- `produce_and_minimize`: Takes an `Analysis`, a number of trials to run (`n_trials`), and optional parameters for `produce_trial` and `minimize_ts`. Returns a list of `minimize_ts` results, one for each trial.\n",
    "\n",
    "Parameters should be a structured numpy array, with `dtype` names matching the expected variable names in the test statistic terms. Examples:\n",
    "- for any test statistic: `ns`\n",
    "- for `I3EnergyTerm`: `gamma`\n",
    "- for `TimeTerm`: `mean`, `sigma`, `start`, `length`, `offset`\n",
    "\n",
    "Let's produce a trial and then minimize the test statistic:"
   ]
  },
  {
   "cell_type": "code",
   "execution_count": 12,
   "metadata": {},
   "outputs": [
    {
     "name": "stdout",
     "output_type": "stream",
     "text": [
      "49667\n",
      "[(    122141, 69044856, 0, 5.30611701, -0.00415596, 6.16087037, 1.56539583, 56289.78644183, 3.08036215, 0.03557112, -0.00415595)\n",
      " (    120977, 18631854, 0, 4.86366161,  0.94325531, 1.27018399, 2.51466257, 56236.31324472, 2.94414419, 0.00421145,  0.80947376)\n",
      " (    120757, 61350223, 0, 1.03573622, -0.95373785, 4.73323851, 0.61631153, 56323.26771632, 5.86741769, 0.01550099, -0.81558406)\n",
      " ...\n",
      " (1102909795,   127791, 0, 1.38993951,  0.07508018, 1.61856749, 1.6908215 , 56295.28482414, 3.38364996, 0.06227905,  0.07500966)\n",
      " (1106901331,     1181, 0, 1.34393062,  0.10372918, 1.07019232, 1.70772323, 56353.05965934, 3.89600628, 0.01037974,  0.10354326)\n",
      " (1106901295,      475, 0, 1.3626877 ,  0.10451039, 3.25278105, 1.72848154, 56277.10186455, 3.53470253, 0.00686983,  0.10432024)]\n"
     ]
    },
    {
     "data": {
      "image/png": "[encoded data removed]",
      "text/plain": [
       "<Figure size 432x288 with 1 Axes>"
      ]
     },
     "metadata": {
      "needs_background": "light"
     },
     "output_type": "display_data"
    },
    {
     "name": "stdout",
     "output_type": "stream",
     "text": [
      "[(621.29705028, 94.54707554)]\n"
     ]
    }
   ],
   "source": [
    "#generate a single trial with 100 events\n",
    "trial = mla.analysis.produce_trial(\n",
    "    analysis,\n",
    "    n_signal_observed=100,\n",
    ")\n",
    "print(len(trial))\n",
    "print(trial)\n",
    "# Plot the trial events\n",
    "plt.scatter(trial['time'], trial['logE'])\n",
    "plt.xlabel('time (MJD)')\n",
    "plt.ylabel(r'$log_{10}E$')\n",
    "plt.show()\n",
    "\n",
    "#scanning different ns and gamma values\n",
    "# Generate parameter array for minimizing\n",
    "## Here: minimize both spectral index (gamma) and n_s\n",
    "#test_params = mla.generate_params(\n",
    "#            gamma=-2,\n",
    "#            ns=90,\n",
    "#        )\n",
    "#bounds = [(-4, -1), (0, 150)]\n",
    "\n",
    "## Here: just miminize n_s\n",
    "test_params = mla.generate_params(\n",
    "            ns=90\n",
    ")\n",
    "bounds = [(0, 150)]\n",
    "#using the 90 as a suggestion, this can be used as the mean of the ns values\n",
    "#but we are scanning from 0 to 100\n",
    "\n",
    "result = mla.analysis.minimize_ts(\n",
    "    analysis=analysis,\n",
    "    events=trial,\n",
    "    bounds=bounds,\n",
    "    test_params=test_params,\n",
    "    as_array=True,\n",
    "\n",
    ")\n",
    "#prints TS and ns values (TS,ns)\n",
    "print(result)"
   ]
  },
  {
   "cell_type": "markdown",
   "metadata": {},
   "source": [
    "Now, lets use `produce_and_minimize` to do the same with 10 trials:"
   ]
  },
  {
   "cell_type": "code",
   "execution_count": 13,
   "metadata": {},
   "outputs": [
    {
     "name": "stdout",
     "output_type": "stream",
     "text": [
      "(665.65179082, 92.70751112)\n",
      "(710.4314466, 99.09212187)\n",
      "(626.34605962, 93.17713014)\n",
      "(596.71867879, 97.72347063)\n",
      "(688.4140437, 103.44868413)\n",
      "(664.82210822, 95.72744264)\n",
      "(706.09191071, 102.11581671)\n",
      "(549.20836098, 97.16514509)\n",
      "(603.54802078, 95.53522853)\n",
      "(663.66030757, 106.06801248)\n"
     ]
    }
   ],
   "source": [
    "results = mla.produce_and_minimize(\n",
    "    analysis=analysis,\n",
    "    n_trials=10,\n",
    "    n_signal_observed=100,\n",
    "    bounds=bounds,\n",
    "    test_params=test_params,\n",
    "    as_array=True,\n",
    ")\n",
    "#injecting 100 events 10 times\n",
    "for result in results:\n",
    "    print(result)"
   ]
  },
  {
   "cell_type": "code",
   "execution_count": 14,
   "metadata": {},
   "outputs": [
    {
     "name": "stdout",
     "output_type": "stream",
     "text": [
      "Producing 100 trials n_inj = 50\n",
      "Producing 100 trials n_inj = 10\n",
      "Producing 100 trials n_inj = 5\n",
      "Producing 500 bg only trials\n"
     ]
    }
   ],
   "source": [
    "# Produce and minimize 100 trials, then plot the ts distribution\n",
    "\n",
    "print(\"Producing 100 trials n_inj = 50\")\n",
    "best_fit_arr_50 = mla.produce_and_minimize(\n",
    "    analysis=analysis,\n",
    "    n_trials=100,\n",
    "    n_signal_observed=50,\n",
    "    bounds=bounds,\n",
    "    test_params=test_params,\n",
    "    as_array=True,\n",
    ")\n",
    "\n",
    "print(\"Producing 100 trials n_inj = 10\")\n",
    "best_fit_arr_10 = mla.produce_and_minimize(\n",
    "    analysis=analysis,\n",
    "    n_trials=100,\n",
    "    n_signal_observed=10,\n",
    "    bounds=bounds,\n",
    "    test_params=test_params,\n",
    "    as_array=True,\n",
    ")\n",
    "\n",
    "print(\"Producing 100 trials n_inj = 5\")\n",
    "best_fit_arr_5 = mla.produce_and_minimize(\n",
    "    analysis=analysis,\n",
    "    n_trials=100,\n",
    "    n_signal_observed=5,\n",
    "    bounds=bounds,\n",
    "    test_params=test_params,\n",
    "    as_array=True,\n",
    ")\n",
    "\n",
    "print(\"Producing 500 bg only trials\")\n",
    "best_fit_arr_bg = mla.produce_and_minimize(\n",
    "    analysis=analysis,\n",
    "    n_trials=500,\n",
    "    n_signal_observed=0,\n",
    "    bounds=bounds,\n",
    "    test_params=test_params,\n",
    "    as_array=True,\n",
    ")\n"
   ]
  },
  {
   "cell_type": "code",
   "execution_count": 15,
   "metadata": {},
   "outputs": [],
   "source": [
    "ts_bg, ns_bg = zip(*best_fit_arr_bg)\n",
    "ts_50, ns_50 = zip(*best_fit_arr_50)\n",
    "ts_10, ns_10 = zip(*best_fit_arr_10)\n",
    "ts_5, ns_5 = zip(*best_fit_arr_5)\n"
   ]
  },
  {
   "cell_type": "code",
   "execution_count": 16,
   "metadata": {},
   "outputs": [
    {
     "data": {
      "image/png": "[encoded data removed]",
      "text/plain": [
       "<Figure size 720x432 with 1 Axes>"
      ]
     },
     "metadata": {
      "needs_background": "light"
     },
     "output_type": "display_data"
    }
   ],
   "source": [
    "# Plot the signal and background LLHs\n",
    "fig, ax = plt.subplots(figsize=(10,6))\n",
    "bins = np.linspace(-5, 400, 150)\n",
    "\n",
    "ax.hist(ts_bg,\n",
    "        bins = bins,\n",
    "        weights = np.ones_like(ts_bg)/len(ts_bg),\n",
    "        histtype = 'step',\n",
    "        color = 'k',\n",
    "        linewidth = 3,\n",
    "        alpha=0.5,\n",
    "        label = r'N = 0',\n",
    "       )\n",
    "\n",
    "ax.hist(ts_50,\n",
    "        bins = bins,\n",
    "        weights = np.ones_like(ts_50)/len(ts_50),\n",
    "        histtype = 'step',\n",
    "        linewidth = 3,\n",
    "        alpha = 0.7,\n",
    "        label = r'N = 50')\n",
    "\n",
    "ax.hist(ts_10,\n",
    "        bins = bins,\n",
    "        weights = np.ones_like(ts_10)/len(ts_10),\n",
    "        histtype = 'step',\n",
    "        linewidth = 3,\n",
    "        alpha = 0.7,\n",
    "        label = r'N = 10')\n",
    "\n",
    "ax.hist(ts_5,\n",
    "        bins = bins,\n",
    "        weights = np.ones_like(ts_5)/len(ts_5),\n",
    "        histtype = 'step',\n",
    "        linewidth = 3,\n",
    "        alpha = 0.7,\n",
    "        label = r'N = 5')\n",
    "\n",
    "ax.legend(loc='upper right', fontsize=16,)\n",
    "plt.yscale('log')\n",
    "ax.grid(alpha=0.25)\n",
    "#ax.set_xlim(bins.min(), bins.max())\n",
    "ax.set_xlabel(\"TS\", fontsize=16)\n",
    "ax.set_ylabel(\"Fraction of Trials\", fontsize=16)\n",
    "ax.tick_params(which='both', labelsize=16)"
   ]
  },
  {
   "cell_type": "code",
   "execution_count": 17,
   "metadata": {},
   "outputs": [
    {
     "data": {
      "image/png": "[encoded data removed]",
      "text/plain": [
       "<Figure size 720x432 with 1 Axes>"
      ]
     },
     "metadata": {
      "needs_background": "light"
     },
     "output_type": "display_data"
    }
   ],
   "source": [
    "# Plot the best fit ns\n",
    "fig, ax = plt.subplots(figsize=(10,6))\n",
    "bins = np.linspace(-5, 60, 150)\n",
    "\n",
    "ax.hist(ns_bg,\n",
    "        bins = bins,\n",
    "        weights = np.ones_like(ns_bg)/len(ns_bg),\n",
    "        histtype = 'step',\n",
    "        color = 'k',\n",
    "        linewidth = 3,\n",
    "        alpha=0.5,\n",
    "        label = r'N = 0',\n",
    "       )\n",
    "\n",
    "ax.hist(ns_50,\n",
    "        bins = bins,\n",
    "        weights = np.ones_like(ns_50)/len(ns_50),\n",
    "        histtype = 'step',\n",
    "        linewidth = 3,\n",
    "        alpha = 0.7,\n",
    "        label = r'N = 50')\n",
    "\n",
    "ax.hist(ns_10,\n",
    "        bins = bins,\n",
    "        weights = np.ones_like(ns_10)/len(ns_10),\n",
    "        histtype = 'step',\n",
    "        linewidth = 3,\n",
    "        alpha = 0.7,\n",
    "        label = r'N = 10')\n",
    "\n",
    "ax.hist(ns_5,\n",
    "        bins = bins,\n",
    "        weights = np.ones_like(ns_5)/len(ns_5),\n",
    "        histtype = 'step',\n",
    "        linewidth = 3,\n",
    "        alpha = 0.7,\n",
    "        label = r'N = 5')\n",
    "\n",
    "ax.legend(loc='upper right', fontsize=16,)\n",
    "plt.yscale('log')\n",
    "ax.grid(alpha=0.25)\n",
    "#ax.set_xlim(bins.min(), bins.max())\n",
    "ax.set_xlabel(\"NS\", fontsize=16)\n",
    "ax.set_ylabel(\"Fraction of Trials\", fontsize=16)\n",
    "ax.tick_params(which='both', labelsize=16)"
   ]
  },
  {
   "cell_type": "markdown",
   "metadata": {},
   "source": [
    "Things to do:\n",
    "* bring in 7 yrs of data (Erik will provide conversion from csv to npy tool)\n",
    "* currently, this uses a 158 time window, want to use ALL data in a uniform time profile.\n",
    "* n_injected here is as \"n events\" -> option to use signal normalization\n",
    "\n",
    "Starting to setup an analysis\n",
    "* background only TS distributions.\n",
    "* signal injections (flux vs. n_injected above)\n",
    "* find point where you make \"discovery\" and are \"sensitive\"\n",
    "* then look at real data.  What is your TS, where does it land relative to these distributions?  Did you discovery anything?"
   ]
  },
  {
   "cell_type": "code",
   "execution_count": null,
   "metadata": {},
   "outputs": [],
   "source": []
  }
 ],
 "metadata": {
  "kernelspec": {
   "display_name": "Python 3",
   "language": "python",
   "name": "python3"
  },
  "language_info": {
   "codemirror_mode": {
    "name": "ipython",
    "version": 3
   },
   "file_extension": ".py",
   "mimetype": "text/x-python",
   "name": "python",
   "nbconvert_exporter": "python",
   "pygments_lexer": "ipython3",
   "version": "3.8.6"
  }
 },
 "nbformat": 4,
 "nbformat_minor": 4
}
